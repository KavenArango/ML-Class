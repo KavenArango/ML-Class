{
 "metadata": {
  "language_info": {
   "codemirror_mode": {
    "name": "ipython",
    "version": 3
   },
   "file_extension": ".py",
   "mimetype": "text/x-python",
   "name": "python",
   "nbconvert_exporter": "python",
   "pygments_lexer": "ipython3",
   "version": 3
  },
  "orig_nbformat": 2
 },
 "nbformat": 4,
 "nbformat_minor": 2,
 "cells": [
  {
   "source": [
    "# Home work 2 By Kaven Arango\n",
    "\n",
    "# Question 1:\n",
    "* Z Score = 0.53\n",
    "* P Value = 0.296\n",
    "* the null hypothesis is: rejected\n",
    "\n",
    "# Question 2:\n",
    "\n",
    "* Z Score = \n",
    "* P Value = \n",
    "* the null hypothesis is: "
   ],
   "cell_type": "markdown",
   "metadata": {}
  }
 ]
}