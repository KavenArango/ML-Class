{
 "cells": [
  {
   "cell_type": "markdown",
   "metadata": {},
   "source": [
    "# Showing input and output"
   ]
  },
  {
   "cell_type": "code",
   "execution_count": 7,
   "metadata": {
    "scrolled": true
   },
   "outputs": [
    {
     "name": "stdout",
     "output_type": "stream",
     "text": [
      "Hello I know python 3.7\n",
      "input a number: 5\n",
      "you entered: 5\n",
      "Please input a second number: 9\n",
      "This is a loop current iteration is 0\n",
      "This is a loop current iteration is 1\n",
      "This is a loop current iteration is 2\n",
      "This is a loop current iteration is 3\n",
      "This is a loop current iteration is 4\n",
      "This is a loop current iteration is 5\n",
      "This is a loop current iteration is 6\n",
      "This is a loop current iteration is 7\n",
      "This is a loop current iteration is 8\n",
      "This is a loop current iteration is 9\n"
     ]
    }
   ],
   "source": [
    "print(\"Hello I know python\", 3.7)\n",
    "x = int(input(\"input a number: \"))\n",
    "print(\"you entered:\", x)\n",
    "y = int(input(\"Please input a second number: \"))\n",
    "\n",
    "i = 0\n",
    "while i < 10:\n",
    "    print(\"This is a loop current iteration is\", i)\n",
    "    i = i + 1"
   ]
  },
  {
   "cell_type": "markdown",
   "metadata": {},
   "source": [
    "# Using user input for calculations"
   ]
  },
  {
   "cell_type": "code",
   "execution_count": 8,
   "metadata": {
    "scrolled": true
   },
   "outputs": [
    {
     "name": "stdout",
     "output_type": "stream",
     "text": [
      "x + y =  14\n",
      "x - y =  5\n",
      "x * y =  45\n",
      "x ^ y =  1953125\n",
      "x / y =  0.5555555555555556\n"
     ]
    }
   ],
   "source": [
    "w = x + y\n",
    "print(\"x + y = \", w)\n",
    "\n",
    "w = w - x\n",
    "print(\"x - y = \", x)\n",
    "\n",
    "\n",
    "w = x * y\n",
    "print(\"x * y = \", w)\n",
    "\n",
    "w = x ** y\n",
    "print(\"x ^ y = \", w)\n",
    "\n",
    "w = x / y\n",
    "print(\"x / y = \", w)\n"
   ]
  },
  {
   "cell_type": "markdown",
   "metadata": {},
   "source": [
    "# Using Imports"
   ]
  },
  {
   "cell_type": "code",
   "execution_count": 9,
   "metadata": {},
   "outputs": [
    {
     "name": "stdout",
     "output_type": "stream",
     "text": [
      "0       5.0\n",
      "1       6.0\n",
      "2      15.0\n",
      "3       2.0\n",
      "4    8191.0\n",
      "5       NaN\n",
      "6       7.0\n",
      "dtype: float64\n",
      "    Index   \"Year\"   \"Age\"                \"Name\"  \\\n",
      "0       1     1928      22        \"Janet Gaynor\"   \n",
      "1       2     1929      37       \"Mary Pickford\"   \n",
      "2       3     1930      28       \"Norma Shearer\"   \n",
      "3       4     1931      63      \"Marie Dressler\"   \n",
      "4       5     1932      32         \"Helen Hayes\"   \n",
      "..    ...      ...     ...                   ...   \n",
      "84     85     2012      62        \"Meryl Streep\"   \n",
      "85     86     2013      22   \"Jennifer Lawrence\"   \n",
      "86     87     2014      44      \"Cate Blanchett\"   \n",
      "87     88     2015      54      \"Julianne Moore\"   \n",
      "88     89     2016      26         \"Brie Larson\"   \n",
      "\n",
      "                            \"Movie\"  \n",
      "0                   \"Seventh Heaven  \n",
      "1                        \"Coquette\"  \n",
      "2                  \"The Divorcee\"\\t  \n",
      "3                    \"Min and Bill\"  \n",
      "4    \"The Sin of Madelon Claudet\"\\t  \n",
      "..                              ...  \n",
      "84                  \"The Iron Lady\"  \n",
      "85        \"Silver Linings Playbook\"  \n",
      "86                   \"Blue Jasmine\"  \n",
      "87                    \"Still Alice\"  \n",
      "88                           \"Room\"  \n",
      "\n",
      "[89 rows x 5 columns]\n",
      "                   A         B         C         D\n",
      "2013-01-01  0.551578 -0.741220  0.766905 -0.530888\n",
      "2013-01-02  0.530678  0.526530  1.462099 -0.809007\n",
      "2013-01-03 -0.228829  0.235906  1.566590 -0.486334\n",
      "2013-01-04  0.342993  1.102088 -0.514243 -0.467301\n",
      "2013-01-05  1.268406  1.700328  2.311244 -2.291714\n",
      "2013-01-06 -0.989120 -0.909118 -0.534371  0.883717\n"
     ]
    }
   ],
   "source": [
    "import pandas as pd\n",
    "import numpy as np\n",
    "\n",
    "s = pd.Series([5,6,15,2,8191, np.nan, 7])\n",
    "print(s)\n",
    "dataframe = pd.read_csv(\"oscar_age_female.csv\") # converts .csv to dataframe\n",
    "\n",
    "print(dataframe)\n",
    "\n",
    "dates = pd.date_range('20130101', periods=6)\n",
    "\n",
    "df = pd.DataFrame(np.random.randn(6, 4), index=dates, columns=list('ABCD'))\n",
    "\n",
    "print(df)\n",
    "\n",
    "\n"
   ]
  },
  {
   "cell_type": "markdown",
   "metadata": {},
   "source": [
    "# Tuples\n",
    "Tuples can not be changed only created\n",
    "so they are read only and write once when you make them\n",
    "data structures in Tuples can be changed how ever"
   ]
  },
  {
   "cell_type": "code",
   "execution_count": 14,
   "metadata": {},
   "outputs": [
    {
     "name": "stdout",
     "output_type": "stream",
     "text": [
      "<class 'tuple'>\n"
     ]
    },
    {
     "data": {
      "text/plain": [
       "(1,\n",
       " 2,\n",
       " 3,\n",
       " 'Harry',\n",
       " 'Sam',\n",
       " [1, 2, 33, 4, 5],\n",
       " [1, 4, 9, 16, 25, 36],\n",
       " [1, 8, 27, 64, 125])"
      ]
     },
     "execution_count": 14,
     "metadata": {},
     "output_type": "execute_result"
    }
   ],
   "source": [
    "squares = [1, 4, 9,  16, 25, 36]\n",
    "cubes = [1, 8, 27, 64, 125]\n",
    "singles = [1, 2, 3, 4, 5]\n",
    "singlesandsquares = [singles, squares] # a list containing singles and squares\n",
    "alllists = [singles, squares, cubes] # a list containing all the lists\n",
    "\n",
    "my_tuple = (1, 2, 3, 'Harry', 'Sam', singles, squares, cubes)\n",
    "\n",
    "print(type(my_tuple))\n",
    "\n",
    "my_tuple[5][2] = 33\n",
    "thistuple = tuple((\"apple\", \"banana\", \"cherry\")) # note the double round-brackets\n",
    "my_tuple"
   ]
  },
  {
   "cell_type": "markdown",
   "metadata": {},
   "source": []
  },
  {
   "cell_type": "code",
   "execution_count": 3,
   "metadata": {},
   "outputs": [
    {
     "name": "stdout",
     "output_type": "stream",
     "text": [
      "total words:  560460\n",
      "\n",
      "total uniqe words:  41438\n",
      "0 :  midst\n",
      "1 :  blink\n",
      "2 :  hast\n",
      "3 :  mistaken.\n",
      "4 :  best.\n",
      "5 :  So-and-so,\n",
      "6 :  crime,\n",
      "7 :  incendiarism.\n",
      "8 :  mahogany\n",
      "9 :  “Yes,\n"
     ]
    }
   ],
   "source": [
    "f = open(\"WarAndPeace.txt\", \"r\",encoding='utf-8')\n",
    "\n",
    "wordcount = f.read()\n",
    "\n",
    "print(\"total words: \", len(wordcount.split()))\n",
    "print(\"\")\n",
    "\n",
    "\n",
    "wordsNoRepeat = set(wordcount.split())\n",
    "\n",
    "i = 0\n",
    "\n",
    "print(\"total uniqe words: \",len(wordsNoRepeat))\n",
    "\n",
    "while i < 10:\n",
    "    print(i, \": \", list(wordsNoRepeat)[i])\n",
    "    i += 1\n",
    "    "
   ]
  },
  {
   "cell_type": "markdown",
   "metadata": {},
   "source": [
    "# ploting\n",
    "\n",
    "using pyplot to plot graphs made from dataframes \n"
   ]
  },
  {
   "cell_type": "code",
   "execution_count": 9,
   "metadata": {},
   "outputs": [
    {
     "data": {
      "image/png": "[encoded data removed]",
      "text/plain": [
       "<Figure size 432x288 with 1 Axes>"
      ]
     },
     "metadata": {
      "needs_background": "light"
     },
     "output_type": "display_data"
    },
    {
     "name": "stdout",
     "output_type": "stream",
     "text": [
      "===================================================\n"
     ]
    },
    {
     "data": {
      "image/png": "[encoded data removed]",
      "text/plain": [
       "<Figure size 432x288 with 1 Axes>"
      ]
     },
     "metadata": {
      "needs_background": "light"
     },
     "output_type": "display_data"
    },
    {
     "name": "stdout",
     "output_type": "stream",
     "text": [
      "===================================================\n"
     ]
    }
   ],
   "source": [
    "from matplotlib import pyplot as plt\n",
    "import pandas as pd\n",
    "\n",
    "\n",
    "df = pd.DataFrame({\n",
    "    'name':['john','mary','peter','jeff','bill','lisa','jose'],\n",
    "    'age':[23,78,22,19,45,33,20],\n",
    "    'gender':['M','F','M','M','M','F','M'],\n",
    "    'state':['california','dc','california','dc','california','texas','texas'],\n",
    "    'num_children':[2,0,0,3,2,1,4],\n",
    "    'num_pets':[5,1,0,12,2,2,3]})\n",
    "\n",
    "df.plot(kind='bar',x='age',y='num_pets',color='green')\n",
    "plt.title('people with pets')\n",
    "plt.ylabel('PETS')\n",
    "plt.xlabel('AGE')\n",
    "plt.show()\n",
    "print('===================================================')\n",
    "\n",
    "plt.bar(df.gender, df.num_children)\n",
    "plt.title('number of kids based on gender')\n",
    "plt.ylabel('Kids')\n",
    "plt.show()\n",
    "print('===================================================')\n",
    "\n"
   ]
  },
  {
   "cell_type": "code",
   "execution_count": null,
   "metadata": {},
   "outputs": [],
   "source": []
  },
  {
   "cell_type": "code",
   "execution_count": null,
   "metadata": {},
   "outputs": [],
   "source": []
  }
 ],
 "metadata": {
  "kernelspec": {
   "display_name": "Python 3",
   "language": "python",
   "name": "python3"
  },
  "language_info": {
   "codemirror_mode": {
    "name": "ipython",
    "version": 3
   },
   "file_extension": ".py",
   "mimetype": "text/x-python",
   "name": "python",
   "nbconvert_exporter": "python",
   "pygments_lexer": "ipython3",
   "version": "3.7.9"
  }
 },
 "nbformat": 4,
 "nbformat_minor": 4
}
