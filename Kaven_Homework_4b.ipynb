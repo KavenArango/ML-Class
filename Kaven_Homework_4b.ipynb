{
 "cells": [
  {
   "cell_type": "markdown",
   "metadata": {},
   "source": [
    "# Homework 4b\n",
    "code is as solid as a wet noodle at best"
   ]
  },
  {
   "cell_type": "code",
   "execution_count": 1,
   "metadata": {},
   "outputs": [],
   "source": [
    "import numpy as np\n",
    "import pandas as pd\n",
    "import copy\n",
    "import math as mth\n",
    "import matplotlib.pyplot as plt\n",
    "from IPython.core.interactiveshell import InteractiveShell\n",
    "InteractiveShell.ast_node_interactivity = \"all\"\n"
   ]
  },
  {
   "cell_type": "markdown",
   "metadata": {},
   "source": [
    "made the colors thing so it can be pretty on output the send is there because depending\n",
    "on the position of the centriod this code breaks and i cant figure it out all i know is it gets\n",
    "set to nan"
   ]
  },
  {
   "cell_type": "code",
   "execution_count": 2,
   "metadata": {},
   "outputs": [],
   "source": [
    "df = pd.DataFrame({\n",
    "    'x': [5, 10, 15, 24, 30, 55, 60, 71, 80, 85],\n",
    "    'y': [3, 15, 12, 10, 45, 52, 78, 80, 91, 70]\n",
    "})\n",
    "colors = {1: 'r', 2: 'g', 3: 'b', 4: 'm', 5: 'c', 6: 'y'}\n",
    "np.random.seed(200)"
   ]
  },
  {
   "cell_type": "code",
   "execution_count": 3,
   "metadata": {},
   "outputs": [],
   "source": [
    "def distance(xy, mu):\n",
    "    return np.sqrt(np.sum((xy.sub(mu)) ** 2, axis=1))"
   ]
  },
  {
   "cell_type": "code",
   "execution_count": 4,
   "metadata": {},
   "outputs": [],
   "source": [
    "def mean(x):\n",
    "    return (sum(x) / len(x)) if len(x) != 0 else (sum(x) / 1, 2)"
   ]
  },
  {
   "cell_type": "code",
   "execution_count": 5,
   "metadata": {},
   "outputs": [],
   "source": [
    "def assign_cluster(df, centroids):\n",
    "    for i in centroids.keys():\n",
    "        df['dist{}'.format(i)] = (\n",
    "            distance(df[['x', 'y']], centroids[i]) # finds the distance\n",
    "        )\n",
    "    centroid_distance_cols = ['dist{}'.format(i) for i in centroids.keys()] # makes the colmns for distance from each node\n",
    "    df['closest_node'] = df.loc[:, centroid_distance_cols].idxmin(axis=1) \n",
    "    df['closest_node'] = df['closest_node'].map(lambda x: int(x.lstrip('dist'))) \n",
    "    df['color'] = df['closest_node'].map(lambda x: colors[x]) #sets the color of the points to the closest node\n",
    "    return df"
   ]
  },
  {
   "cell_type": "code",
   "execution_count": 6,
   "metadata": {},
   "outputs": [],
   "source": [
    "def calculate_new_centroid(k, centroids):\n",
    "    for i in centroids.keys():\n",
    "        centroids[i][0] = mean(df[df['closest_node'] == i]['x'])\n",
    "        centroids[i][1] = mean(df[df['closest_node'] == i]['y'])\n",
    "    return k"
   ]
  },
  {
   "cell_type": "code",
   "execution_count": 11,
   "metadata": {},
   "outputs": [],
   "source": [
    "def do_cluster(df, k):\n",
    "    centroids = {\n",
    "        i+1: [np.random.randint(0, 80), np.random.randint(0, 80)]\n",
    "        for i in range(k)\n",
    "    }\n",
    "    df = assign_cluster(df, centroids)\n",
    "    while True:\n",
    "        closest_centroids = df['closest_node'].copy(deep=True)\n",
    "        centroids = calculate_new_centroid(centroids, centroids)\n",
    "        df = assign_cluster(df, centroids)\n",
    "        if closest_centroids.equals(df['closest_node']):\n",
    "            break\n",
    "    plt.scatter(df['x'], df['y'], color=df['color'],\n",
    "                alpha=0.2, edgecolor='k')\n",
    "    for i in centroids.keys():\n",
    "        x, y = centroids[i]\n",
    "        plt.scatter(x, y, s=100, color='green')\n",
    "    plt.show()"
   ]
  },
  {
   "cell_type": "markdown",
   "metadata": {},
   "source": [
    "im afraid to touch this code it might break"
   ]
  },
  {
   "cell_type": "code",
   "execution_count": 12,
   "metadata": {},
   "outputs": [
    {
     "data": {
      "image/png": "[encoded data removed]",
      "text/plain": [
       "<Figure size 432x288 with 1 Axes>"
      ]
     },
     "metadata": {
      "needs_background": "light"
     },
     "output_type": "display_data"
    }
   ],
   "source": [
    "do_cluster(df, k=2)"
   ]
  },
  {
   "cell_type": "code",
   "execution_count": 14,
   "metadata": {},
   "outputs": [
    {
     "data": {
      "image/png": "[encoded data removed]",
      "text/plain": [
       "<Figure size 432x288 with 1 Axes>"
      ]
     },
     "metadata": {
      "needs_background": "light"
     },
     "output_type": "display_data"
    }
   ],
   "source": [
    "do_cluster(df, k=3)"
   ]
  }
 ],
 "metadata": {
  "kernelspec": {
   "display_name": "Python 3",
   "language": "python",
   "name": "python3"
  },
  "language_info": {
   "codemirror_mode": {
    "name": "ipython",
    "version": 3
   },
   "file_extension": ".py",
   "mimetype": "text/x-python",
   "name": "python",
   "nbconvert_exporter": "python",
   "pygments_lexer": "ipython3",
   "version": "3.7.9"
  }
 },
 "nbformat": 4,
 "nbformat_minor": 4
}
