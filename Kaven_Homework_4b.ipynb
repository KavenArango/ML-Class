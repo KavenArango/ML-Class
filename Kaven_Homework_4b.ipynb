{
 "cells": [
  {
   "cell_type": "markdown",
   "metadata": {},
   "source": [
    "# Homework 4b\n",
    "code is as solid as a wet noodle at best"
   ]
  },
  {
   "cell_type": "code",
   "execution_count": 94,
   "metadata": {},
   "outputs": [],
   "source": [
    "import numpy as np\n",
    "import pandas as pd\n",
    "import math as mth\n",
    "import random\n",
    "import matplotlib.pyplot as plt\n",
    "from IPython.core.interactiveshell import InteractiveShell\n",
    "InteractiveShell.ast_node_interactivity = \"all\"\n"
   ]
  },
  {
   "cell_type": "markdown",
   "metadata": {},
   "source": [
    "made the colors thing so it can be pretty on output the send is there because depending\n",
    "on the position of the centriod this code breaks and i cant figure it out all i know is it gets\n",
    "set to nan"
   ]
  },
  {
   "cell_type": "code",
   "execution_count": 95,
   "metadata": {},
   "outputs": [],
   "source": [
    "df = pd.DataFrame({\n",
    "    'x': [5, 10, 15, 24, 30, 55, 60, 71, 80, 85],\n",
    "    'y': [3, 15, 12, 10, 45, 52, 78, 80, 91, 70]\n",
    "})\n",
    "colors = {1: 'r', 2: 'g', 3: 'b', 4: 'm', 5: 'c', 6: 'y'}\n",
    "random.seed(200)"
   ]
  },
  {
   "cell_type": "code",
   "execution_count": 96,
   "metadata": {},
   "outputs": [],
   "source": [
    "def distance(xy, mu):\n",
    "    return np.sqrt(np.sum((xy.sub(mu)) ** 2, axis=1))"
   ]
  },
  {
   "cell_type": "code",
   "execution_count": 97,
   "metadata": {},
   "outputs": [],
   "source": [
    "def makecentriods(k):\n",
    "    centroids = {\n",
    "        i+1: [random.randint(0, 80), random.randint(0, 80)]\n",
    "        for i in range(k)\n",
    "    }\n",
    "    return centroids"
   ]
  },
  {
   "cell_type": "code",
   "execution_count": 98,
   "metadata": {},
   "outputs": [],
   "source": [
    "def mean(x):\n",
    "    return (sum(x) / len(x)) if len(x) != 0 else (sum(x) / 1)"
   ]
  },
  {
   "cell_type": "code",
   "execution_count": 99,
   "metadata": {},
   "outputs": [],
   "source": [
    "def assign_cluster(df, centroids):\n",
    "    for i in centroids.keys():\n",
    "        df['dist{}'.format(i)] = (\n",
    "            distance(df[['x', 'y']], centroids[i])\n",
    "        )\n",
    "    centroid_distance_cols = ['dist{}'.format(i) for i in centroids.keys()]\n",
    "    df['closest_node'] = df.loc[:, centroid_distance_cols].idxmin(axis=1) \n",
    "    df['closest_node'] = df['closest_node'].map(lambda x: int(x.lstrip('dist'))) \n",
    "    df['color'] = df['closest_node'].map(lambda x: colors[x])\n",
    "    return df"
   ]
  },
  {
   "cell_type": "code",
   "execution_count": 100,
   "metadata": {},
   "outputs": [],
   "source": [
    "def calculate_new_centroid(centroids):\n",
    "    for i in centroids.keys():\n",
    "        centroids[i][0] = mean(df[df['closest_node'] == i]['x'])\n",
    "        centroids[i][1] = mean(df[df['closest_node'] == i]['y'])\n",
    "    return centroids"
   ]
  },
  {
   "cell_type": "code",
   "execution_count": 101,
   "metadata": {},
   "outputs": [],
   "source": [
    "def do_cluster(df, k):\n",
    "    centroids = makecentriods(k)\n",
    "    df = assign_cluster(df, centroids)\n",
    "    while True:\n",
    "        prev_closest_centroids = df['closest_node']\n",
    "        centroids = calculate_new_centroid(centroids)\n",
    "        df = assign_cluster(df, centroids)\n",
    "        if prev_closest_centroids.equals(df['closest_node']):\n",
    "            break\n",
    "    plt.scatter(df['x'], df['y'], color=df['color'],\n",
    "                alpha=0.2, edgecolor='k')\n",
    "    for i in centroids.keys():\n",
    "        x, y = centroids[i]\n",
    "        plt.scatter(x, y, s=100, color='green')\n",
    "    print(df)\n",
    "    plt.show()"
   ]
  },
  {
   "cell_type": "markdown",
   "metadata": {},
   "source": [
    "im afraid to touch this code it might break"
   ]
  },
  {
   "cell_type": "code",
   "execution_count": 102,
   "metadata": {},
   "outputs": [
    {
     "name": "stdout",
     "output_type": "stream",
     "text": [
      "    x   y      dist1      dist2  closest_node color\n",
      "0   5   3  96.542633  18.309560             2     g\n",
      "1  10  15  84.431511   7.088018             2     g\n",
      "2  15  12  83.161770   5.314132             2     g\n",
      "3  24  10  79.095385  10.041912             2     g\n",
      "4  30  45  49.685813  30.955452             2     g\n",
      "5  55  52  26.905018  51.809652             1     r\n",
      "6  60  78  10.884852  74.747843             1     r\n",
      "7  71  80   5.854912  83.106197             1     r\n",
      "8  80  91  19.449422  97.315158             1     r\n",
      "9  85  70  15.384408  86.372681             1     r\n"
     ]
    },
    {
     "data": {
      "image/png": "[encoded data removed]",
      "text/plain": [
       "<Figure size 432x288 with 1 Axes>"
      ]
     },
     "metadata": {
      "needs_background": "light"
     },
     "output_type": "display_data"
    }
   ],
   "source": [
    "do_cluster(df, k=2)"
   ]
  },
  {
   "cell_type": "code",
   "execution_count": 103,
   "metadata": {},
   "outputs": [
    {
     "name": "stdout",
     "output_type": "stream",
     "text": [
      "    x   y       dist1      dist2  closest_node color       dist3\n",
      "0   5   3  103.206407  58.961852             3     b   11.011358\n",
      "1  10  15   91.041543  46.674404             3     b    6.103278\n",
      "2  15  12   89.839092  45.700109             3     b    2.500000\n",
      "3  24  10   85.819942  42.714166             3     b   10.500000\n",
      "4  30  45   56.067482  12.980755             2     g   38.694315\n",
      "5  55  52   33.631273  12.980755             2     g   59.044475\n",
      "6  60  78   14.108951  34.300146             1     r   82.378699\n",
      "7  71  80    3.010399  42.479407             1     r   90.588355\n",
      "8  80  91   12.750000  56.678920             1     r  104.801002\n",
      "9  85  70   14.699065  47.628773             1     r   93.339434\n"
     ]
    },
    {
     "data": {
      "image/png": "[encoded data removed]",
      "text/plain": [
       "<Figure size 432x288 with 1 Axes>"
      ]
     },
     "metadata": {
      "needs_background": "light"
     },
     "output_type": "display_data"
    }
   ],
   "source": [
    "do_cluster(df, k=3)"
   ]
  }
 ],
 "metadata": {
  "kernelspec": {
   "display_name": "Python 3",
   "language": "python",
   "name": "python3"
  },
  "language_info": {
   "codemirror_mode": {
    "name": "ipython",
    "version": 3
   },
   "file_extension": ".py",
   "mimetype": "text/x-python",
   "name": "python",
   "nbconvert_exporter": "python",
   "pygments_lexer": "ipython3",
   "version": "3.7.9"
  }
 },
 "nbformat": 4,
 "nbformat_minor": 4
}
