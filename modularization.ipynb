{
 "cells": [
  {
   "cell_type": "markdown",
   "metadata": {},
   "source": [
    "## Here we will create our own library of functions and import the library to use the functions defined in that library in this notebook\n",
    "\n",
    "## We will first create a set of functions add, mult, dot in a Jupyter Notebook. But download it as .py file (using file->download as). Then upload the .py file into the folder where you are working (using the upload button at the top right of your notebook)\n",
    "\n",
    "## Remove the my_math Jupyter Notebook since we will not be needing it\n",
    "\n",
    "## Now that we have already defined a module my_math that contains three functions add, mult and dot as .py file and have uploaded the file in this mioularization notebook, we will import my_math as mm and use the functions add, mult and dot from mm\n",
    "\n",
    "## In future we will be defining several basic statistical functions, such as \n",
    "\n",
    "#### * mean\n",
    "#### * variance\n",
    "#### * covariance\n",
    "#### * etc.etc\n",
    "\n",
    "## We will create a stats module and import it in Linear Regression and any other notebooks where we will use those stats functions instead of copying them in every notebook where we need them"
   ]
  },
  {
   "cell_type": "code",
   "execution_count": 9,
   "metadata": {},
   "outputs": [
    {
     "name": "stdout",
     "output_type": "stream",
     "text": [
      "Enter a number for x:11\n",
      "Enter a number for y:8\n",
      "19\n",
      "88\n",
      "-650\n",
      "Do more? enter 1 to do more, 0 to stop:0\n"
     ]
    }
   ],
   "source": [
    "import numpy as np\n",
    "import my_math as mm\n",
    "\n",
    "more = 1\n",
    "\n",
    "while (more == 1):\n",
    "    x = int(input(\"Enter a number for x:\"))\n",
    "    y = int(input(\"Enter a number for y:\"))   \n",
    "    answer1 = mm.add(x,y)\n",
    "    answer2 = mm.mult(x,y)\n",
    "    answer3 = mm.dot(v1, v2)\n",
    "\n",
    "    print(answer1)\n",
    "    print(answer2)\n",
    "    print(answer3)\n",
    "    \n",
    "    more = int(input(\"Do more? enter 1 to do more, 0 to stop:\"))\n",
    "    \n",
    "\n"
   ]
  },
  {
   "cell_type": "code",
   "execution_count": null,
   "metadata": {},
   "outputs": [],
   "source": []
  }
 ],
 "metadata": {
  "kernelspec": {
   "display_name": "Python 3",
   "language": "python",
   "name": "python3"
  },
  "language_info": {
   "codemirror_mode": {
    "name": "ipython",
    "version": 3
   },
   "file_extension": ".py",
   "mimetype": "text/x-python",
   "name": "python",
   "nbconvert_exporter": "python",
   "pygments_lexer": "ipython3",
   "version": "3.7.4"
  }
 },
 "nbformat": 4,
 "nbformat_minor": 2
}
