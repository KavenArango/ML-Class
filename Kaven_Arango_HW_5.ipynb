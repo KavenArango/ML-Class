{
 "cells": [
  {
   "cell_type": "markdown",
   "metadata": {},
   "source": [
    "# Problem 1"
   ]
  },
  {
   "cell_type": "code",
   "execution_count": 1,
   "metadata": {},
   "outputs": [],
   "source": [
    "from pulp import *"
   ]
  },
  {
   "cell_type": "code",
   "execution_count": 3,
   "metadata": {},
   "outputs": [],
   "source": [
    "prob = LpProblem(\"Warehouse\", LpMinimize)"
   ]
  },
  {
   "cell_type": "code",
   "execution_count": 4,
   "metadata": {},
   "outputs": [],
   "source": [
    "Yb = LpVariable(\"Boston\", lowBound=0, upBound=1, cat=LpInteger)\n",
    "Yc = LpVariable(\"Chicago\", lowBound=0, upBound=1, cat=LpInteger)\n",
    "Yn = LpVariable(\"New_york\", lowBound=0, upBound=1, cat=LpInteger)\n",
    "Xbw = LpVariable(\"Boston_Washington\", lowBound=0, cat=LpInteger)\n",
    "Xba = LpVariable(\"Boston_to_atlanta\", lowBound=0, cat=LpInteger)\n",
    "Xcw = LpVariable(\"Chicago_to_Washington\", lowBound=0, cat=LpInteger)\n",
    "Xca = LpVariable(\"Chicago_to_atlanta\", lowBound=0, cat=LpInteger)\n",
    "Xnw = LpVariable(\"New_york_to_Washinton\", lowBound=0, cat=LpInteger)\n",
    "Xna = LpVariable(\"New_york_to_atlanta\", lowBound=0, cat=LpInteger)"
   ]
  },
  {
   "cell_type": "code",
   "execution_count": null,
   "metadata": {},
   "outputs": [],
   "source": [
    "prob += (\n",
    "    ((17*Xbw)+(4*Xba)+7650*Yb) +\n",
    "    ((4*Xcw)+(14*Xca)+3500*Yc) +\n",
    "    ((9*Xnw)+(16*Xna)+5000*Yn)\n",
    "), \"Objective Function\""
   ]
  },
  {
   "cell_type": "code",
   "execution_count": null,
   "metadata": {},
   "outputs": [],
   "source": [
    "prob += 3*x + 4*y <= 25, \"Herb A constraint\"\n",
    "prob += 2*x + y <= 10, \"Herb B constraint\" "
   ]
  },
  {
   "cell_type": "code",
   "execution_count": null,
   "metadata": {},
   "outputs": [],
   "source": [
    "prob += Xbw + Xcw + Xnw >= 10000, \"Washington_annual_demand\"\n",
    "prob += Xba + Xca + Xna >= 14000, \"Atlanta_annual_demand\"\n",
    "prob += Xbw + Xba <= Yb * 18000, \"Boston_annual_capacity\"\n",
    "prob += Xcw + Xca <= Yc * 24000, \"Chicago_annual_capacity\"\n",
    "prob += Xcw + Xca <= Yc * 24000, \"New_york_annual_capacity\""
   ]
  },
  {
   "cell_type": "code",
   "execution_count": null,
   "metadata": {},
   "outputs": [],
   "source": [
    "print(\"number\", prob.solve())"
   ]
  },
  {
   "source": [
    "# Problem 2"
   ],
   "cell_type": "markdown",
   "metadata": {}
  },
  {
   "cell_type": "code",
   "execution_count": null,
   "metadata": {},
   "outputs": [],
   "source": [
    "prob = LpProblem(\"investments\", LpMaximize)"
   ]
  },
  {
   "cell_type": "code",
   "execution_count": null,
   "metadata": {},
   "outputs": [],
   "source": [
    "bonds = LpVariable(\"bonds\", lowBound=0, cat=LpInteger)\n",
    "stocks = LpVariable(\"Stocks\", lowBound=0, cat=LpInteger)\n",
    "gold = LpVariable(\"Gold\", lowBound=0, cat=LpInteger)\n",
    "real_estate = LpVariable(\"Real_Estate\", lowBound=0, cat=LpInteger)"
   ]
  },
  {
   "cell_type": "code",
   "execution_count": null,
   "metadata": {},
   "outputs": [],
   "source": [
    "prob += (\n",
    "    (.085 * bonds) +\n",
    "    (.09 * stocks) +\n",
    "    (.1 * gold) +\n",
    "    (.13 * real_estate)\n",
    "), \"Objective Function\""
   ]
  },
  {
   "cell_type": "code",
   "execution_count": null,
   "metadata": {},
   "outputs": [],
   "source": [
    "prob += bonds + stocks + gold <= 5000000, \"Total_money\"\n",
    "prob += bonds + stocks >= 2000000, \"min_stock+bonds\"\n",
    "prob += real_estate <= 1000000, \"max_real_estate\""
   ]
  },
  {
   "cell_type": "code",
   "execution_count": null,
   "metadata": {},
   "outputs": [],
   "source": [
    "print(\"number\", prob.solve())\n",
    "print(\"Status\", LpStatus[prob.status], '\\n')"
   ]
  },
  {
   "cell_type": "code",
   "execution_count": null,
   "metadata": {},
   "outputs": [],
   "source": [
    "for i in prob.variables():\n",
    "    print(i.name, \"=\", i.varValue)"
   ]
  },
  {
   "source": [
    "# Problem 3"
   ],
   "cell_type": "markdown",
   "metadata": {}
  },
  {
   "cell_type": "code",
   "execution_count": null,
   "metadata": {},
   "outputs": [],
   "source": [
    "prob = LpProblem(\"Flight_profit\", LpMaximize)"
   ]
  },
  {
   "cell_type": "code",
   "execution_count": null,
   "metadata": {},
   "outputs": [],
   "source": [
    "rome = LpVariable(\"Flights_to_Rome\", lowBound=0, cat=LpInteger)\n",
    "seattle = LpVariable(\"Flights_to_seattle\", lowBound=0, cat=LpInteger)"
   ]
  },
  {
   "cell_type": "code",
   "execution_count": null,
   "metadata": {},
   "outputs": [],
   "source": [
    "prob += (\n",
    "    (2500 * rome) +\n",
    "    (2000 * seattle)\n",
    "\n",
    "), \"Objective Function\""
   ]
  },
  {
   "cell_type": "code",
   "execution_count": null,
   "metadata": {},
   "outputs": [],
   "source": [
    "prob += rome + seattle <= 12, \"hours_gate_is_open\"\n",
    "prob += 15*rome + 10*seattle <= 150, \"hours_crew_can_work_a_day\"\n",
    "prob += rome <= 9, \"max_rome_flights\""
   ]
  },
  {
   "cell_type": "code",
   "execution_count": null,
   "metadata": {},
   "outputs": [],
   "source": [
    "print(\"number\", prob.solve())\n",
    "print(\"Status\", LpStatus[prob.status], '\\n')"
   ]
  },
  {
   "cell_type": "code",
   "execution_count": null,
   "metadata": {},
   "outputs": [],
   "source": [
    "for i in prob.variables():\n",
    "    print(i.name, \"=\", i.varValue)"
   ]
  },
  {
   "cell_type": "code",
   "execution_count": null,
   "metadata": {},
   "outputs": [],
   "source": []
  },
  {
   "cell_type": "code",
   "execution_count": null,
   "metadata": {},
   "outputs": [],
   "source": []
  },
  {
   "cell_type": "code",
   "execution_count": null,
   "metadata": {},
   "outputs": [],
   "source": []
  },
  {
   "cell_type": "code",
   "execution_count": null,
   "metadata": {},
   "outputs": [],
   "source": []
  },
  {
   "cell_type": "code",
   "execution_count": null,
   "metadata": {},
   "outputs": [],
   "source": []
  },
  {
   "cell_type": "code",
   "execution_count": null,
   "metadata": {},
   "outputs": [],
   "source": []
  },
  {
   "cell_type": "code",
   "execution_count": null,
   "metadata": {},
   "outputs": [],
   "source": []
  },
  {
   "cell_type": "code",
   "execution_count": null,
   "metadata": {},
   "outputs": [],
   "source": []
  },
  {
   "cell_type": "code",
   "execution_count": null,
   "metadata": {},
   "outputs": [],
   "source": []
  },
  {
   "cell_type": "code",
   "execution_count": null,
   "metadata": {},
   "outputs": [],
   "source": []
  },
  {
   "cell_type": "code",
   "execution_count": null,
   "metadata": {},
   "outputs": [],
   "source": []
  },
  {
   "cell_type": "code",
   "execution_count": null,
   "metadata": {},
   "outputs": [],
   "source": []
  },
  {
   "cell_type": "code",
   "execution_count": null,
   "metadata": {},
   "outputs": [],
   "source": []
  }
 ],
 "metadata": {
  "kernelspec": {
   "display_name": "Python 3",
   "language": "python",
   "name": "python3"
  },
  "language_info": {
   "codemirror_mode": {
    "name": "ipython",
    "version": 3
   },
   "file_extension": ".py",
   "mimetype": "text/x-python",
   "name": "python",
   "nbconvert_exporter": "python",
   "pygments_lexer": "ipython3",
   "version": "3.7.9"
  }
 },
 "nbformat": 4,
 "nbformat_minor": 2
}