{
 "cells": [
  {
   "cell_type": "markdown",
   "metadata": {},
   "source": [
    "# Showing input and output"
   ]
  },
  {
   "cell_type": "code",
   "execution_count": 7,
   "metadata": {
    "scrolled": true
   },
   "outputs": [
    {
     "name": "stdout",
     "output_type": "stream",
     "text": [
      "Hello I know python 3.7\n",
      "input a number: 5\n",
      "you entered: 5\n",
      "Please input a second number: 9\n",
      "This is a loop current iteration is 0\n",
      "This is a loop current iteration is 1\n",
      "This is a loop current iteration is 2\n",
      "This is a loop current iteration is 3\n",
      "This is a loop current iteration is 4\n",
      "This is a loop current iteration is 5\n",
      "This is a loop current iteration is 6\n",
      "This is a loop current iteration is 7\n",
      "This is a loop current iteration is 8\n",
      "This is a loop current iteration is 9\n"
     ]
    }
   ],
   "source": [
    "print(\"Hello I know python\", 3.7)\n",
    "x = int(input(\"input a number: \"))\n",
    "print(\"you entered:\", x)\n",
    "y = int(input(\"Please input a second number: \"))\n",
    "\n",
    "i = 0\n",
    "while i < 10:\n",
    "    print(\"This is a loop current iteration is\", i)\n",
    "    i = i + 1"
   ]
  },
  {
   "cell_type": "markdown",
   "metadata": {},
   "source": [
    "# Using user input for calculations"
   ]
  },
  {
   "cell_type": "code",
   "execution_count": 8,
   "metadata": {
    "scrolled": true
   },
   "outputs": [
    {
     "name": "stdout",
     "output_type": "stream",
     "text": [
      "x + y =  14\n",
      "x - y =  5\n",
      "x * y =  45\n",
      "x ^ y =  1953125\n",
      "x / y =  0.5555555555555556\n"
     ]
    }
   ],
   "source": [
    "w = x + y\n",
    "print(\"x + y = \", w)\n",
    "\n",
    "w = w - x\n",
    "print(\"x - y = \", x)\n",
    "\n",
    "\n",
    "w = x * y\n",
    "print(\"x * y = \", w)\n",
    "\n",
    "w = x ** y\n",
    "print(\"x ^ y = \", w)\n",
    "\n",
    "w = x / y\n",
    "print(\"x / y = \", w)\n"
   ]
  },
  {
   "cell_type": "markdown",
   "metadata": {},
   "source": [
    "# Using Imports"
   ]
  },
  {
   "cell_type": "code",
   "execution_count": null,
   "metadata": {},
   "outputs": [],
   "source": [
    "import "
   ]
  }
 ],
 "metadata": {
  "kernelspec": {
   "display_name": "Python 3",
   "language": "python",
   "name": "python3"
  },
  "language_info": {
   "codemirror_mode": {
    "name": "ipython",
    "version": 3
   },
   "file_extension": ".py",
   "mimetype": "text/x-python",
   "name": "python",
   "nbconvert_exporter": "python",
   "pygments_lexer": "ipython3",
   "version": "3.7.9"
  }
 },
 "nbformat": 4,
 "nbformat_minor": 4
}
